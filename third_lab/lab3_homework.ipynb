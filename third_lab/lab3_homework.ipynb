{
 "cells": [
  {
   "cell_type": "markdown",
   "id": "ad2ec39f",
   "metadata": {},
   "source": [
    "## Лабораторна робота №3 (завдання для виконання)"
   ]
  },
  {
   "cell_type": "markdown",
   "id": "1476493b",
   "metadata": {},
   "source": [
    "Прізвище та імʼя: Нестерук Павло"
   ]
  },
  {
   "cell_type": "markdown",
   "id": "db909bf4",
   "metadata": {},
   "source": [
    "Задача 1. \n",
    " Маєте два списки студентів: [\"John\", \"Alice\", \"Bob\", \"Mary\"] та [\"Bob\", \"Mary\", \"Kate\", \"Tom\"]. Знайдіть студентів, які знаходяться в обох списках."
   ]
  },
  {
   "cell_type": "code",
   "execution_count": 6,
   "id": "179cad5f",
   "metadata": {},
   "outputs": [
    {
     "name": "stdout",
     "output_type": "stream",
     "text": [
      "Імена студентів, що знаходяться в обох списках:  {'Bob', 'Mary'}\n"
     ]
    }
   ],
   "source": [
    "# Для знаходження студентів, чиї імена є в обох списках\n",
    "# скористаємося операцією перетину (intersection)\n",
    "\n",
    "first_list = {\"John\", \"Alice\", \"Bob\", \"Mary\"}\n",
    "second_list = {\"Bob\", \"Mary\", \"Kate\", \"Tom\"}\n",
    "intersection_set = first_list.intersection(second_list)\n",
    "print(\"Імена студентів, що знаходяться в обох списках: \", intersection_set)"
   ]
  },
  {
   "cell_type": "markdown",
   "id": "777fd0cb",
   "metadata": {},
   "source": [
    "Задача 2. Маєте два списки товарів для покупки в супермаркеті: [\"apple\", \"banana\", \"orange\", \"grape\"] та [\"orange\", \"grape\", \"watermelon\"]. Знайдіть товари, які присутні лише у першому списку."
   ]
  },
  {
   "cell_type": "code",
   "execution_count": 7,
   "id": "32611f5d",
   "metadata": {},
   "outputs": [
    {
     "name": "stdout",
     "output_type": "stream",
     "text": [
      "Товари, що знаходяться лише у першому списку:  {'banana', 'apple'}\n"
     ]
    }
   ],
   "source": [
    "# Для знаходження товарі, що присутні в першому списку\n",
    "# скористаємося операцією різниці (difference)\n",
    "\n",
    "f_item_set = {\"apple\", \"banana\", \"orange\", \"grape\"} \n",
    "s_item_set = {\"orange\", \"grape\", \"watermelon\"}\n",
    "difference_set = f_item_set.difference(s_item_set)\n",
    "print(\"Товари, що знаходяться лише у першому списку: \", difference_set)"
   ]
  },
  {
   "cell_type": "markdown",
   "id": "cb532c58",
   "metadata": {},
   "source": [
    "Задача 3. Маєте два списки товарів для покупки в супермаркеті: [\"apple\", \"banana\", \"orange\", \"grape\"] та [\"orange\", \"grape\", \"watermelon\"]. Знайдіть товари, які будуть придбані для обох списків."
   ]
  },
  {
   "cell_type": "code",
   "execution_count": 8,
   "id": "a6d665a6",
   "metadata": {},
   "outputs": [
    {
     "name": "stdout",
     "output_type": "stream",
     "text": [
      "Товари, що знаходяться лише у першому списку:  {'orange', 'grape'}\n"
     ]
    }
   ],
   "source": [
    "# Для знаходження товарі, що будуть придбані для обох списків\n",
    "# скористаємося операцією перетину (intersection)\n",
    "\n",
    "# змінні f_item_set та s_item_set використаємо з попереднього завдання\n",
    "intersection_set = f_item_set.intersection(s_item_set)\n",
    "print(\"Товари, що знаходяться лише у першому списку: \", intersection_set)"
   ]
  },
  {
   "cell_type": "markdown",
   "id": "57891423",
   "metadata": {},
   "source": [
    "Задача 4. Маєте список множин: [{1, 2, 3}, {2, 3, 4}, {3, 4, 5}]. Знайдіть об'єднання всіх цих множин."
   ]
  },
  {
   "cell_type": "code",
   "execution_count": 9,
   "id": "e0bd26eb",
   "metadata": {},
   "outputs": [
    {
     "name": "stdout",
     "output_type": "stream",
     "text": [
      "Об'єднання всіх множин зі списку [{1, 2, 3}, {2, 3, 4}, {3, 4, 5}] ->  {1, 2, 3, 4, 5}\n"
     ]
    }
   ],
   "source": [
    "# Для знаходження скористаємося функцією об'єднання (union)\n",
    "# До кожнох множини будемо звертатися за індексом\n",
    "\n",
    "sets_list = [{1, 2, 3}, {2, 3, 4}, {3, 4, 5}]\n",
    "union_set = sets_list[0].union(sets_list[1], sets_list[2])\n",
    "print(\"Об'єднання всіх множин зі списку [{1, 2, 3}, {2, 3, 4}, {3, 4, 5}] -> \", union_set)"
   ]
  },
  {
   "cell_type": "markdown",
   "id": "fdf605a6",
   "metadata": {},
   "source": [
    "Задача 5. В кіностудії знімаються різні фільми, і кожен фільм належить до певного жанру. Які жанри фільмів представлені у всіх фільмах і які жанри притаманні тільки одному фільму? (Назви фільмів та жанри зазначте, згідно з власними вподобаннями)"
   ]
  },
  {
   "cell_type": "code",
   "execution_count": 10,
   "id": "d7636165",
   "metadata": {},
   "outputs": [
    {
     "name": "stdout",
     "output_type": "stream",
     "text": [
      "Жанри, що представлені у всіх фільмах:  {'horror'}\n",
      "Жанри, що представлені тільки в одному фільмі:  {'action', 'science fiction', 'thriller', 'melodrama'}\n"
     ]
    }
   ],
   "source": [
    "movies = {\n",
    "    \"The Shining\": [\"horror\"],\n",
    "    \"Inception\": [\"thriller\", 'science fiction', \"horror\"],\n",
    "    \"Titanic\": ['drama', 'melodrama', \"horror\"],\n",
    "    \"Avengers\": ['fantasy', 'action', \"horror\"],\n",
    "    \"Game of Thrones\": ['fantasy', 'drama',\"horror\"]\n",
    "}\n",
    "\n",
    "# Вираховуємо унікальні жанри\n",
    "unique_genre = set()\n",
    "for movie in movies:\n",
    "    unique_genre = unique_genre.union(set(movies[movie]))\n",
    "\n",
    "# Вираховуємо жанри, що притаманні всім фільмам фільму\n",
    "common_genre = unique_genre.copy()\n",
    "for movie in movies:\n",
    "    common_genre = common_genre.intersection(set(movies[movie]))\n",
    "\n",
    "\n",
    "# Це не виконання формулами з дискретної математики, але все ж\n",
    "genres_in_one_film = {}\n",
    "for movie in movies:\n",
    "    for genre in movies[movie]:\n",
    "        if genre in genres_in_one_film:\n",
    "            genres_in_one_film[genre] += 1\n",
    "        else:\n",
    "            genres_in_one_film[genre] = 1\n",
    "\n",
    "one_film_genre = set()\n",
    "for key, item in genres_in_one_film.items():\n",
    "    if item == 1:\n",
    "        one_film_genre.add(key)\n",
    "\n",
    "\n",
    "\n",
    "print(\"Жанри, що представлені у всіх фільмах: \", common_genre)\n",
    "print(\"Жанри, що представлені тільки в одному фільмі: \", one_film_genre)"
   ]
  },
  {
   "cell_type": "markdown",
   "id": "35d6bb62",
   "metadata": {},
   "source": [
    "Задача 6. Групи крові.\n",
    "Спрощена модель групи крові:\n",
    "#### A (1),  B (2), AB (3),  0 (4)\n",
    "Існує два антигени:\n",
    "#### Анти А та  Анти Б\n",
    "Ці антигени реагують по-різному з кровʼю в залежності від її групи.\n",
    "\n",
    "На приклад, Анти А реагує з A і AB, але не з B і не з 0. Анти Б реагує з В і АB, але не з А і не з 0.\n",
    "\n",
    "Нехай, ми беремо пробу крові і тестуємо її за допомогою антитіл. \n",
    "Нехай:\n",
    "А - випадкова подія, що кров реагує з Анти А,  Б - випадкова подія, що кров реагує з Анти Б.\n",
    "Класифікуйте кров людей, використовуючи  А, Б та їх доповнення.\n",
    "#### Підказка: \n",
    "Використайте  структуру set в пайтоні для створення множини всіх можливих груп крові, а також множини, що відповідають можливим результатам тестів з антигенами А та Б. Покажіть за допомогою операцій над множинами, що цих результатів достатньо, щоб визначити групу крові людини."
   ]
  },
  {
   "cell_type": "code",
   "execution_count": null,
   "id": "ca0aa133",
   "metadata": {},
   "outputs": [],
   "source": []
  }
 ],
 "metadata": {
  "kernelspec": {
   "display_name": "DISCRETE_LABS",
   "language": "python",
   "name": "python3"
  },
  "language_info": {
   "codemirror_mode": {
    "name": "ipython",
    "version": 3
   },
   "file_extension": ".py",
   "mimetype": "text/x-python",
   "name": "python",
   "nbconvert_exporter": "python",
   "pygments_lexer": "ipython3",
   "version": "3.13.2"
  }
 },
 "nbformat": 4,
 "nbformat_minor": 5
}
