{
 "cells": [
  {
   "cell_type": "markdown",
   "id": "391d8a88",
   "metadata": {},
   "source": [
    "## Лабораторна робота №3. Множини та операції над множинами"
   ]
  },
  {
   "cell_type": "markdown",
   "id": "961ccae3",
   "metadata": {},
   "source": [
    "Розглянемо можливості роботи з множинами та операції над множинами з використанням мови програмування Python"
   ]
  },
  {
   "cell_type": "markdown",
   "id": "06a74e78",
   "metadata": {},
   "source": [
    "### Створення множин"
   ]
  },
  {
   "cell_type": "code",
   "execution_count": 1,
   "id": "ecf3e3f0",
   "metadata": {},
   "outputs": [
    {
     "name": "stdout",
     "output_type": "stream",
     "text": [
      "{1, 2, 3}\n"
     ]
    }
   ],
   "source": [
    "my_set = {1, 2, 3}  # Створення множини з елементами 1, 2, 3\n",
    "print(my_set)  # Виведе: {1, 2, 3}\n"
   ]
  },
  {
   "cell_type": "code",
   "execution_count": 2,
   "id": "b944b800",
   "metadata": {},
   "outputs": [
    {
     "name": "stdout",
     "output_type": "stream",
     "text": [
      "{4, 5, 6}\n"
     ]
    }
   ],
   "source": [
    "# Можна також використовувати конструктор set()\n",
    "my_set = set([4, 5, 6])  # Створення множини з елементами 4, 5, 6\n",
    "print(my_set)  # Виведе: {4, 5, 6}"
   ]
  },
  {
   "cell_type": "markdown",
   "id": "981919a7",
   "metadata": {},
   "source": [
    "### Додавання елементів до існуючої множини"
   ]
  },
  {
   "cell_type": "code",
   "execution_count": 3,
   "id": "86d72998",
   "metadata": {},
   "outputs": [
    {
     "name": "stdout",
     "output_type": "stream",
     "text": [
      "{1, 2, 3, 4}\n"
     ]
    }
   ],
   "source": [
    "my_set = {1, 2, 3}\n",
    "my_set.add(4)  # Додавання елементу 4 до множини\n",
    "print(my_set)  # Виведе: {1, 2, 3, 4}"
   ]
  },
  {
   "cell_type": "code",
   "execution_count": 4,
   "id": "ac21f5da",
   "metadata": {},
   "outputs": [
    {
     "name": "stdout",
     "output_type": "stream",
     "text": [
      "{1, 2, 3, 4}\n"
     ]
    }
   ],
   "source": [
    "# Множина автоматично вилучає дублікати\n",
    "my_set.add(4)  # Додавання дубльованого елементу 4\n",
    "print(my_set)  # Виведе: {1, 2, 3, 4} (дублікат не додається)"
   ]
  },
  {
   "cell_type": "markdown",
   "id": "d3be3320",
   "metadata": {},
   "source": [
    "### Вилучення елементів з вже заданої множии"
   ]
  },
  {
   "cell_type": "code",
   "execution_count": 5,
   "id": "bc568299",
   "metadata": {},
   "outputs": [
    {
     "name": "stdout",
     "output_type": "stream",
     "text": [
      "{1, 2, 4}\n"
     ]
    }
   ],
   "source": [
    "my_set = {1, 2, 3, 4}\n",
    "my_set.remove(3)  # Вилучення елементу 3 з множини\n",
    "print(my_set)  # Виведе: {1, 2, 4}"
   ]
  },
  {
   "cell_type": "code",
   "execution_count": 6,
   "id": "747edb78",
   "metadata": {},
   "outputs": [
    {
     "name": "stdout",
     "output_type": "stream",
     "text": [
      "{1, 2, 4}\n"
     ]
    }
   ],
   "source": [
    "# Метод discard() також вилучає елемент, але не генерує помилку, якщо елемент не існує\n",
    "my_set.discard(5)  # Вилучення неіснуючого елементу 5\n",
    "print(my_set)  # Виведе: {1, 2, 4}"
   ]
  },
  {
   "cell_type": "markdown",
   "id": "13922acd",
   "metadata": {},
   "source": [
    "### Операції над множинами"
   ]
  },
  {
   "cell_type": "code",
   "execution_count": 8,
   "id": "c64c1594",
   "metadata": {},
   "outputs": [],
   "source": [
    "set1 = {1, 2, 3}\n",
    "set2 = {3, 4, 5}"
   ]
  },
  {
   "cell_type": "code",
   "execution_count": 9,
   "id": "36691f0e",
   "metadata": {},
   "outputs": [
    {
     "name": "stdout",
     "output_type": "stream",
     "text": [
      "{1, 2, 3, 4, 5}\n"
     ]
    }
   ],
   "source": [
    "# Об'єднання множин\n",
    "union_set = set1.union(set2)\n",
    "print(union_set)  # Виведе: {1, 2, 3, 4, 5}"
   ]
  },
  {
   "cell_type": "code",
   "execution_count": 10,
   "id": "8da76578",
   "metadata": {},
   "outputs": [
    {
     "name": "stdout",
     "output_type": "stream",
     "text": [
      "{3}\n"
     ]
    }
   ],
   "source": [
    "# Перетин множин\n",
    "intersection_set = set1.intersection(set2)\n",
    "print(intersection_set)  # Виведе: {3}"
   ]
  },
  {
   "cell_type": "code",
   "execution_count": 11,
   "id": "b010551b",
   "metadata": {},
   "outputs": [
    {
     "name": "stdout",
     "output_type": "stream",
     "text": [
      "{1, 2}\n"
     ]
    }
   ],
   "source": [
    "# Різниця множин\n",
    "difference_set = set1.difference(set2)\n",
    "print(difference_set)  # Виведе: {1, 2}"
   ]
  },
  {
   "cell_type": "code",
   "execution_count": 12,
   "id": "30b65acf",
   "metadata": {},
   "outputs": [
    {
     "name": "stdout",
     "output_type": "stream",
     "text": [
      "{1, 2, 4, 5}\n"
     ]
    }
   ],
   "source": [
    "# Перетин множин без спільних елементів\n",
    "symmetric_difference_set = set1.symmetric_difference(set2)\n",
    "print(symmetric_difference_set)  # Виведе: {1, 2, 4, 5}"
   ]
  },
  {
   "cell_type": "markdown",
   "id": "d34bd5e2",
   "metadata": {},
   "source": [
    "Також перетин множин можна записати як A&B, обʼєднання множин A|B, різниця множин A-B"
   ]
  },
  {
   "cell_type": "markdown",
   "id": "3fb5b717",
   "metadata": {},
   "source": [
    "### Визначення потужності множини (кількості елементів в ній)"
   ]
  },
  {
   "cell_type": "code",
   "execution_count": 13,
   "id": "0ccbc577",
   "metadata": {},
   "outputs": [
    {
     "name": "stdout",
     "output_type": "stream",
     "text": [
      "5\n"
     ]
    }
   ],
   "source": [
    "set1 = {1, 2, 3}\n",
    "set2 = {3, 4, 5}\n",
    "union_size = len(set1.union(set2))\n",
    "print(union_size)  # Виведе: 5"
   ]
  },
  {
   "cell_type": "code",
   "execution_count": 14,
   "id": "771bcb55",
   "metadata": {},
   "outputs": [
    {
     "name": "stdout",
     "output_type": "stream",
     "text": [
      "3\n"
     ]
    }
   ],
   "source": [
    "set1_size = len(set1)\n",
    "print(set1_size)"
   ]
  },
  {
   "cell_type": "markdown",
   "id": "6a0d9363",
   "metadata": {},
   "source": [
    "### приклади розвʼязання складніших задач"
   ]
  },
  {
   "cell_type": "markdown",
   "id": "952f4907",
   "metadata": {},
   "source": [
    "В університеті є кілька груп студентів, і кожна група має свої предмети, які вони вивчають. Які предмети вивчають усі групи і які предмети вивчає тільки одна з груп?"
   ]
  },
  {
   "cell_type": "code",
   "execution_count": 15,
   "id": "16b43dbe",
   "metadata": {},
   "outputs": [],
   "source": [
    "groups = {\n",
    "    'Group 1': ['Math', 'Physics', 'Chemistry', 'English'],\n",
    "    'Group 2': ['Math', 'Biology', 'History'],\n",
    "    'Group 3': ['Math', 'Physics', 'English'],\n",
    "    'Group 4': ['Physics', 'Chemistry', 'English']\n",
    "}"
   ]
  },
  {
   "cell_type": "code",
   "execution_count": 16,
   "id": "c241b703",
   "metadata": {},
   "outputs": [],
   "source": [
    "# Знаходимо предмети, які вивчають усі групи\n",
    "common_subjects = set(groups[next(iter(groups))])\n",
    "for group in groups:\n",
    "    common_subjects = common_subjects.intersection(groups[group])"
   ]
  },
  {
   "cell_type": "code",
   "execution_count": 17,
   "id": "50f13277",
   "metadata": {},
   "outputs": [],
   "source": [
    "# Знаходимо предмети, які вивчає тільки одна група\n",
    "unique_subjects = set()\n",
    "for group in groups:\n",
    "    unique_subjects.update(set(groups[group]) - common_subjects)"
   ]
  },
  {
   "cell_type": "code",
   "execution_count": 18,
   "id": "0cd3baa6",
   "metadata": {},
   "outputs": [
    {
     "name": "stdout",
     "output_type": "stream",
     "text": [
      "Предмети, які вивчають усі групи: set()\n",
      "Предмети, які вивчає тільки одна група: {'Math', 'Physics', 'Chemistry', 'History', 'Biology', 'English'}\n"
     ]
    }
   ],
   "source": [
    "print(\"Предмети, які вивчають усі групи:\", common_subjects)\n",
    "print(\"Предмети, які вивчає тільки одна група:\", unique_subjects)"
   ]
  },
  {
   "cell_type": "markdown",
   "id": "60ac15e9",
   "metadata": {},
   "source": [
    "В цьому прикладі ми використовуємо словник groups, де ключі - назви груп, а значення - список предметів, які вивчають учні цих груп. Спочатку ми припускаємо, що предмети першої групи є спільними для всіх груп (common_subjects = set(groups[next(iter(groups))])). Потім ми по черзі перетинаємо цей набір зі списками предметів інших груп, використовуючи метод intersection().\n",
    "\n",
    "Далі, ми проходимося по кожній групі і оновлюємо набір unique_subjects, додавши до нього предмети, які є у списку предметів даної групи, але не належать до common_subjects.\n",
    "\n",
    "На виході ми виводимо результати - предмети, які вивчають усі групи (common_subjects) і предмети, які вивчає тільки одна група (unique_subjects).\n",
    "\n",
    "Зважайте на те, що в цьому прикладі ми припускаємо, що усі назви груп є унікальними і що кожна група має хоча б один предмет. "
   ]
  },
  {
   "cell_type": "code",
   "execution_count": null,
   "id": "8017ba64",
   "metadata": {},
   "outputs": [],
   "source": []
  }
 ],
 "metadata": {
  "kernelspec": {
   "display_name": "Python 3 (ipykernel)",
   "language": "python",
   "name": "python3"
  },
  "language_info": {
   "codemirror_mode": {
    "name": "ipython",
    "version": 3
   },
   "file_extension": ".py",
   "mimetype": "text/x-python",
   "name": "python",
   "nbconvert_exporter": "python",
   "pygments_lexer": "ipython3",
   "version": "3.9.12"
  }
 },
 "nbformat": 4,
 "nbformat_minor": 5
}
