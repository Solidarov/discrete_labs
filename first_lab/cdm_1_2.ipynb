{
 "cells": [
  {
   "cell_type": "markdown",
   "metadata": {},
   "source": [
    "# Бібліотеки для роботи"
   ]
  },
  {
   "cell_type": "markdown",
   "metadata": {},
   "source": [
    "## NumPy"
   ]
  },
  {
   "cell_type": "markdown",
   "metadata": {
    "scrolled": true
   },
   "source": [
    "Бібліотека для наукових обчислень, яка надає високопродуктивні масиви та матриці. Прочитати більше можна за посиланням: https://numpy.org/doc/stable/"
   ]
  },
  {
   "cell_type": "markdown",
   "metadata": {},
   "source": [
    "Імпортуємо бібліотеку і задамо, що в майбутньому будемо викликати її як np."
   ]
  },
  {
   "cell_type": "code",
   "execution_count": 1,
   "metadata": {},
   "outputs": [],
   "source": [
    "import numpy as np"
   ]
  },
  {
   "cell_type": "markdown",
   "metadata": {},
   "source": [
    "Якщо при компіляції цього фрагмента, ви отримаєте помилку, потрібно інсталювати бібліотеку через Анконда, напряму в Анаконда промпт або терминалі:\n",
    "```bash\n",
    "conda install numpy\n",
    "```"
   ]
  },
  {
   "cell_type": "markdown",
   "metadata": {},
   "source": [
    "## SciPy"
   ]
  },
  {
   "cell_type": "markdown",
   "metadata": {},
   "source": [
    "Бібліотека для наукових обчислень, яка містить модулі для оптимізації, інтерполяції, обробки сигналів, статистики та інших обчислювальних задач. Прочитати більше можна за посиланням: https://docs.scipy.org/doc/scipy/"
   ]
  },
  {
   "cell_type": "code",
   "execution_count": 6,
   "metadata": {},
   "outputs": [],
   "source": [
    "import scipy as sp"
   ]
  },
  {
   "cell_type": "markdown",
   "metadata": {},
   "source": [
    "Команда для інсталяції:\n",
    "```bash\n",
    "conda install scipy\n",
    "```"
   ]
  },
  {
   "cell_type": "markdown",
   "metadata": {},
   "source": [
    "## SymPy \n"
   ]
  },
  {
   "cell_type": "markdown",
   "metadata": {},
   "source": [
    "Бібліотека для символьних обчислень, яка дозволяє працювати з символьними виразами, розв'язувати системи рівнянь, знаходити похідні та інтеграли. Документацію можна знайти за посиланням: https://docs.sympy.org/latest/index.html"
   ]
  },
  {
   "cell_type": "code",
   "execution_count": 3,
   "metadata": {},
   "outputs": [],
   "source": [
    "import sympy as sym"
   ]
  },
  {
   "cell_type": "markdown",
   "metadata": {},
   "source": [
    "Команда для інсталяції:\n",
    "```bash\n",
    "conda install sympy\n",
    "```"
   ]
  },
  {
   "cell_type": "markdown",
   "metadata": {},
   "source": [
    "## NetworkX "
   ]
  },
  {
   "cell_type": "markdown",
   "metadata": {},
   "source": [
    "Бібліотека для аналізу графів, яка надає інструменти для створення, маніпулювання та аналізу графів. Детальна документація: https://networkx.github.io/documentation/stable/"
   ]
  },
  {
   "cell_type": "code",
   "execution_count": 2,
   "metadata": {},
   "outputs": [],
   "source": [
    "import networkx as nx"
   ]
  },
  {
   "cell_type": "markdown",
   "metadata": {},
   "source": [
    "Команда для інсталяції:\n",
    "```bash\n",
    "conda install networkx[default]\n",
    "```"
   ]
  },
  {
   "cell_type": "markdown",
   "metadata": {},
   "source": [
    "## Matplotlib "
   ]
  },
  {
   "cell_type": "markdown",
   "metadata": {},
   "source": [
    "Бібліотека для візуалізації даних, яка дозволяє створювати графіки та діаграми різного типу. З документацією можна ознайомитися за посиланням: https://matplotlib.org/stable/index.html"
   ]
  },
  {
   "cell_type": "code",
   "execution_count": 5,
   "metadata": {},
   "outputs": [],
   "source": [
    "import matplotlib as plt"
   ]
  },
  {
   "cell_type": "markdown",
   "metadata": {},
   "source": [
    "Команда для інсталяції:\n",
    "```bash\n",
    "conda install -c conda-forge matplotlib\n",
    "```"
   ]
  },
  {
   "cell_type": "markdown",
   "metadata": {},
   "source": [
    "## Pandas"
   ]
  },
  {
   "cell_type": "markdown",
   "metadata": {},
   "source": [
    "Бібліотека для обробки та аналізу даних, яка дозволяє працювати з табличними даними та здійснювати операції з ними. Детальніше по документації: https://pandas.pydata.org/docs/"
   ]
  },
  {
   "cell_type": "code",
   "execution_count": 1,
   "metadata": {},
   "outputs": [],
   "source": [
    "import pandas as pd"
   ]
  },
  {
   "cell_type": "markdown",
   "metadata": {},
   "source": [
    "Команда для інсталяції:\n",
    "```bash\n",
    "conda install -c conda-forge pandas\n",
    "```"
   ]
  },
  {
   "cell_type": "markdown",
   "metadata": {},
   "source": [
    "## Інсталяція всіх бібліотек"
   ]
  },
  {
   "cell_type": "markdown",
   "metadata": {},
   "source": [
    "Для інсталяції всіх бібліотек, можна скористатися конфігураційним файлом `environment.yml`. В ньому мають бути зазначені всі потрібні бібліотеки та залежності."
   ]
  },
  {
   "cell_type": "markdown",
   "metadata": {},
   "source": [
    "Команда в терміналі для інсталяції:\n",
    "```bash\n",
    "conda env create --file environment.yml\n",
    "```"
   ]
  }
 ],
 "metadata": {
  "kernelspec": {
   "display_name": "DISCRETE_LABS",
   "language": "python",
   "name": "python3"
  },
  "language_info": {
   "codemirror_mode": {
    "name": "ipython",
    "version": 3
   },
   "file_extension": ".py",
   "mimetype": "text/x-python",
   "name": "python",
   "nbconvert_exporter": "python",
   "pygments_lexer": "ipython3",
   "version": "3.13.2"
  }
 },
 "nbformat": 4,
 "nbformat_minor": 4
}
