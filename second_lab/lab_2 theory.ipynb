{
 "cells": [
  {
   "cell_type": "markdown",
   "id": "2fc5d351",
   "metadata": {},
   "source": [
    "## Лабораторна робота №2. Розвʼязуваня комбінаторних задач"
   ]
  },
  {
   "cell_type": "markdown",
   "id": "a34efacb",
   "metadata": {},
   "source": [
    "Комбінаторні задачі поділяються на задачі, які розвʼязуються з користанням формул комбінаторики, задачі на застосування бінома Ньютона та розвʼязування рекурентних співвідношень. \n",
    "Розглянемо приклади коду, який можна використосувати для виконання поставлених задач."
   ]
  },
  {
   "cell_type": "markdown",
   "id": "5aa5940a",
   "metadata": {},
   "source": [
    "### Обчислення факторіалу\n"
   ]
  },
  {
   "cell_type": "code",
   "execution_count": 1,
   "id": "acbac9f7",
   "metadata": {},
   "outputs": [
    {
     "name": "stdout",
     "output_type": "stream",
     "text": [
      "120\n"
     ]
    }
   ],
   "source": [
    "import math\n",
    "\n",
    "n = 5\n",
    "\n",
    "perm = math.factorial(n)\n",
    "\n",
    "print(perm)\n"
   ]
  },
  {
   "cell_type": "markdown",
   "id": "9477f04f",
   "metadata": {},
   "source": [
    "### Генерування перестановок"
   ]
  },
  {
   "cell_type": "code",
   "execution_count": 2,
   "id": "72a6890c",
   "metadata": {},
   "outputs": [],
   "source": [
    "import itertools\n",
    "\n",
    "# Генеруємо всі перестановки\n",
    "perm = list(itertools.permutations([1, 2, 3]))\n",
    "\n",
    "# Генеруємо перестановки довільної довжини\n",
    "n = 4\n",
    "perm = list(itertools.permutations(range(1, n+1), n))"
   ]
  },
  {
   "cell_type": "code",
   "execution_count": 3,
   "id": "18f785dd",
   "metadata": {},
   "outputs": [
    {
     "data": {
      "text/plain": [
       "[(1, 2, 3, 4),\n",
       " (1, 2, 4, 3),\n",
       " (1, 3, 2, 4),\n",
       " (1, 3, 4, 2),\n",
       " (1, 4, 2, 3),\n",
       " (1, 4, 3, 2),\n",
       " (2, 1, 3, 4),\n",
       " (2, 1, 4, 3),\n",
       " (2, 3, 1, 4),\n",
       " (2, 3, 4, 1),\n",
       " (2, 4, 1, 3),\n",
       " (2, 4, 3, 1),\n",
       " (3, 1, 2, 4),\n",
       " (3, 1, 4, 2),\n",
       " (3, 2, 1, 4),\n",
       " (3, 2, 4, 1),\n",
       " (3, 4, 1, 2),\n",
       " (3, 4, 2, 1),\n",
       " (4, 1, 2, 3),\n",
       " (4, 1, 3, 2),\n",
       " (4, 2, 1, 3),\n",
       " (4, 2, 3, 1),\n",
       " (4, 3, 1, 2),\n",
       " (4, 3, 2, 1)]"
      ]
     },
     "execution_count": 3,
     "metadata": {},
     "output_type": "execute_result"
    }
   ],
   "source": [
    "perm"
   ]
  },
  {
   "cell_type": "markdown",
   "id": "cdc8894a",
   "metadata": {},
   "source": [
    "Кількість перестановок, без їх генерування, можна обчислити за формулою перестановок P_n=n!"
   ]
  },
  {
   "cell_type": "markdown",
   "id": "bc8699e0",
   "metadata": {},
   "source": [
    "### Генерування комбінацій"
   ]
  },
  {
   "cell_type": "code",
   "execution_count": 2,
   "id": "245029c5",
   "metadata": {},
   "outputs": [
    {
     "name": "stdout",
     "output_type": "stream",
     "text": [
      "1\n"
     ]
    }
   ],
   "source": [
    "import itertools\n",
    "\n",
    "# Генеруємо всі комбінації\n",
    "comb = list(itertools.combinations([1, 2, 3, 4, 5], 5))\n",
    "\n",
    "# Генеруємо комбінації з повторенням\n",
    "comb_w_rep = list(itertools.combinations_with_replacement([1, 2, 3], 2))\n",
    "\n",
    "print(len(comb))"
   ]
  },
  {
   "cell_type": "code",
   "execution_count": 5,
   "id": "733ca5d2",
   "metadata": {},
   "outputs": [
    {
     "data": {
      "text/plain": [
       "[(1, 2), (1, 3), (2, 3)]"
      ]
     },
     "execution_count": 5,
     "metadata": {},
     "output_type": "execute_result"
    }
   ],
   "source": [
    "comb"
   ]
  },
  {
   "cell_type": "markdown",
   "id": "8f8f77b9",
   "metadata": {},
   "source": [
    "Обчислення комбінацій вібувається за допомогою відомої нам формули. У Python є вбудована функція math.comb() для обчислення кількості комбінацій"
   ]
  },
  {
   "cell_type": "code",
   "execution_count": 6,
   "id": "7d17376f",
   "metadata": {},
   "outputs": [
    {
     "name": "stdout",
     "output_type": "stream",
     "text": [
      "10\n"
     ]
    }
   ],
   "source": [
    "import math\n",
    "\n",
    "n = 5\n",
    "k = 3\n",
    "\n",
    "comb = math.comb(n, k)\n",
    "\n",
    "print(comb)"
   ]
  },
  {
   "cell_type": "markdown",
   "id": "5a290ac2",
   "metadata": {},
   "source": [
    "У цьому прикладі ми обчислюємо кількість комбінацій k елементів зі множини з n елементів. У нашому випадку n=5 і k=3. Результат буде надруковано на екрані і буде дорівнювати 10."
   ]
  },
  {
   "cell_type": "markdown",
   "id": "931f20ea",
   "metadata": {},
   "source": [
    "### Розміщення"
   ]
  },
  {
   "cell_type": "markdown",
   "id": "dfde9b1f",
   "metadata": {},
   "source": [
    "В Python також є вбудована функція math.perm() для обчислення кількості розміщень."
   ]
  },
  {
   "cell_type": "code",
   "execution_count": 2,
   "id": "483c320b",
   "metadata": {},
   "outputs": [
    {
     "name": "stdout",
     "output_type": "stream",
     "text": [
      "60\n"
     ]
    }
   ],
   "source": [
    "import math\n",
    "\n",
    "n = 5\n",
    "k = 3\n",
    "\n",
    "perm = math.perm(n, k)\n",
    "\n",
    "print(perm)"
   ]
  },
  {
   "cell_type": "markdown",
   "id": "a3e5821e",
   "metadata": {},
   "source": [
    "У цьому прикладі ми обчислюємо кількість розміщень k елементів зі множини з n елементів. У нашому випадку n=5 і k=3. Результат буде надруковано на екрані і буде дорівнювати 60."
   ]
  },
  {
   "cell_type": "markdown",
   "id": "00400cce",
   "metadata": {},
   "source": [
    "### Перестановки з повтореннями"
   ]
  },
  {
   "cell_type": "markdown",
   "id": "7dbe2cd0",
   "metadata": {},
   "source": [
    "Також в Python є можливість обчислити кількість перестановок з повтореннями за допомогою вбудованої функції math.perm(). Ця функція приймає два аргументи - кількість елементів та кількість елементів, які можуть повторюватись.\n",
    "\n",
    "Наприклад, якщо у нас є 5 кульок, які ми можемо розмістити на 3 місцях, дозволяючи повторення, то кількість різних способів цього зробити буде обчислюватись наступним чином:"
   ]
  },
  {
   "cell_type": "code",
   "execution_count": 3,
   "id": "e0a84694",
   "metadata": {},
   "outputs": [
    {
     "name": "stdout",
     "output_type": "stream",
     "text": [
      "60\n"
     ]
    }
   ],
   "source": [
    "from math import perm\n",
    "\n",
    "n = 5   # кількість кульок\n",
    "r = 3   # кількість місць\n",
    "\n",
    "permutations_with_repeats = perm(n, r)\n",
    "print(permutations_with_repeats)   # виведе 125"
   ]
  },
  {
   "cell_type": "markdown",
   "id": "a41d1ed1",
   "metadata": {},
   "source": [
    "Отже, існує 125 різних способів розмістити 5 кульок на 3 місцях, дозволяючи повторення."
   ]
  },
  {
   "cell_type": "markdown",
   "id": "bd5e6d4b",
   "metadata": {},
   "source": [
    "### Розміщення з повтореннями"
   ]
  },
  {
   "cell_type": "markdown",
   "id": "7df57c17",
   "metadata": {},
   "source": [
    "В Python є можливість обчислити кількість розміщень з повтореннями за допомогою вбудованої функції pow(). Кількість розміщень з повтореннями обчислюється як кількість способів вибрати один з $n$ елементів для кожної з $r$ позицій. Отже, її можна обчислити за допомогою формули $n^r$.\n",
    "\n",
    "Наприклад, якщо у нас є 3 різні види цукерок, які ми можемо розмістити в коробці з 5 місцями, дозволяючи повторення, то кількість різних способів це зробити буде обчислюватись наступним чином:"
   ]
  },
  {
   "cell_type": "code",
   "execution_count": 9,
   "id": "28b4c82c",
   "metadata": {},
   "outputs": [
    {
     "name": "stdout",
     "output_type": "stream",
     "text": [
      "243\n"
     ]
    }
   ],
   "source": [
    "n = 3   # кількість видів цукерок\n",
    "r = 5   # кількість місць у коробці\n",
    "\n",
    "placements_with_repeats = pow(n, r)\n",
    "print(placements_with_repeats)   # виведе 243"
   ]
  },
  {
   "cell_type": "markdown",
   "id": "3029be6b",
   "metadata": {},
   "source": [
    "### Комбінації з повтореннями"
   ]
  },
  {
   "cell_type": "markdown",
   "id": "9b7c8530",
   "metadata": {},
   "source": [
    "Обчислити кількість комбінацій з повтореннями можна за допомогою функції comb() з модулю scipy.special. Ця функція приймає два аргументи: кількість різних елементів та кількість елементів у комбінації.\n",
    "\n",
    "Наприклад, якщо у нас є 3 різні види цукерок, з яких  ми можемо взяти по 2 цукерки, дозволяючи повторення, то кількість різних комбінацій цього зробити буде обчислюватись наступним чином:"
   ]
  },
  {
   "cell_type": "code",
   "execution_count": null,
   "id": "ebcf877f",
   "metadata": {},
   "outputs": [
    {
     "name": "stdout",
     "output_type": "stream",
     "text": [
      "10.0\n"
     ]
    }
   ],
   "source": [
    "from scipy.special import comb\n",
    "\n",
    "n = 5   # кількість видів конфет\n",
    "k = 3   # кількість елементів у комбінації\n",
    "\n",
    "combinations_with_repeats = comb(n + k - 1, k)\n",
    "print(combinations_with_repeats)   # виведе 6"
   ]
  },
  {
   "cell_type": "markdown",
   "id": "151cbf2d",
   "metadata": {},
   "source": [
    "### Біноміальні коєфіцієнти"
   ]
  },
  {
   "cell_type": "markdown",
   "id": "a4569482",
   "metadata": {},
   "source": [
    "У Python є модуль scipy.special, який містить функції для роботи з біноміальним розкладом. Одна з таких функцій - scipy.special.binom, яка приймає два аргументи n та k та повертає значення біноміального коефіцієнту. Ось приклад використання:"
   ]
  },
  {
   "cell_type": "code",
   "execution_count": 11,
   "id": "bd43f5cb",
   "metadata": {},
   "outputs": [
    {
     "name": "stdout",
     "output_type": "stream",
     "text": [
      "[1.0, 5.0, 10.0]\n"
     ]
    }
   ],
   "source": [
    "from scipy.special import binom\n",
    "\n",
    "n = 5\n",
    "k = 2\n",
    "\n",
    "coefficients = [binom(n, i) for i in range(k + 1)]\n",
    "\n",
    "print(coefficients)"
   ]
  },
  {
   "cell_type": "markdown",
   "id": "60bf9b05",
   "metadata": {},
   "source": [
    "Для отримання конкретного члена біноміального розкладу (a+b)^n можна використати формулу: C(n, k) * a^(n-k) * b^k, де C(n, k) - біноміальний коефіцієнт для n та k. Щоб отримати значення конкретного члена для n, k, a та b, можна використати наступний код:"
   ]
  },
  {
   "cell_type": "code",
   "execution_count": 12,
   "id": "68715555",
   "metadata": {},
   "outputs": [
    {
     "name": "stdout",
     "output_type": "stream",
     "text": [
      "4320.0\n"
     ]
    }
   ],
   "source": [
    "from scipy.special import binom\n",
    "\n",
    "n = 5\n",
    "k = 2\n",
    "a = 3\n",
    "b = 4\n",
    "\n",
    "coefficient = binom(n, k)\n",
    "term = coefficient * a**(n-k) * b**k\n",
    "\n",
    "print(term)"
   ]
  },
  {
   "cell_type": "markdown",
   "id": "f238963e",
   "metadata": {},
   "source": [
    "У цьому прикладі ми обчислюємо значення члена біноміального розкладу (3+4)^5 з n=5, k=2, a=3 та b=4. Біноміальний коефіцієнт обчислюється за допомогою функції binom з модуля scipy.special. Результат буде надруковано на екрані"
   ]
  },
  {
   "cell_type": "markdown",
   "id": "f434b220",
   "metadata": {},
   "source": [
    "### Задачі зі складанням цифр та генеруванням паролів"
   ]
  },
  {
   "cell_type": "markdown",
   "id": "c9c61ffa",
   "metadata": {},
   "source": [
    "Розглянемо задачу. Скільки існує 5-цифрових чисел, в яких кожна цифра може бути або 1, або 2, або 3?\n"
   ]
  },
  {
   "cell_type": "code",
   "execution_count": 13,
   "id": "39794f72",
   "metadata": {},
   "outputs": [
    {
     "name": "stdout",
     "output_type": "stream",
     "text": [
      "21\n"
     ]
    }
   ],
   "source": [
    "import math\n",
    "\n",
    "n = 3\n",
    "r = 5\n",
    "\n",
    "num_combinations = math.comb(n+r-1, r)\n",
    "\n",
    "print(num_combinations)"
   ]
  },
  {
   "cell_type": "markdown",
   "id": "09f3e748",
   "metadata": {},
   "source": [
    "Розглянемо ще одну задачу. Скільки існує 4-буквених кодів, які можуть складатися з букв A, B та C, якщо кожна буква може повторюватися?"
   ]
  },
  {
   "cell_type": "markdown",
   "id": "ad824e8c",
   "metadata": {},
   "source": [
    " Важливо розуміти яку саме комбінаторну формулу потрібно виконати для розвʼязання. Для цієї задачі потрібно використати розміщення з повтореннями, оскільки ми можемо використовувати кожну букву (A, B, C) більше одного разу."
   ]
  },
  {
   "cell_type": "code",
   "execution_count": 14,
   "id": "849a212a",
   "metadata": {},
   "outputs": [
    {
     "name": "stdout",
     "output_type": "stream",
     "text": [
      "81\n"
     ]
    }
   ],
   "source": [
    "n = 3   # кількість різних букв (A, B, C)\n",
    "k = 4   # кількість символів у коді\n",
    "\n",
    "count = n**k   # кількість можливих кодів\n",
    "print(count)   # вивести результат"
   ]
  },
  {
   "cell_type": "code",
   "execution_count": null,
   "id": "42c62734",
   "metadata": {},
   "outputs": [],
   "source": []
  }
 ],
 "metadata": {
  "kernelspec": {
   "display_name": "DISCRETE_LABS",
   "language": "python",
   "name": "python3"
  },
  "language_info": {
   "codemirror_mode": {
    "name": "ipython",
    "version": 3
   },
   "file_extension": ".py",
   "mimetype": "text/x-python",
   "name": "python",
   "nbconvert_exporter": "python",
   "pygments_lexer": "ipython3",
   "version": "3.13.2"
  }
 },
 "nbformat": 4,
 "nbformat_minor": 5
}
