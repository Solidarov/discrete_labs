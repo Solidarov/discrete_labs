{
 "cells": [
  {
   "cell_type": "markdown",
   "id": "351b4482",
   "metadata": {},
   "source": [
    "### Лабораторна робота №2"
   ]
  },
  {
   "cell_type": "markdown",
   "id": "b251e505",
   "metadata": {},
   "source": [
    "Ваше прізвище та імʼя: Нестерук Павло"
   ]
  },
  {
   "cell_type": "markdown",
   "id": "c7e44fd5",
   "metadata": {},
   "source": [
    "#### Завдання 1. У магазині є 4 кольори футболок (чорна, біла, синя, червона) та 3 розміри (S, M, L). Скільки різних комбінацій футболок можна скласти з цих 4 кольорів та 3 розмірів?"
   ]
  },
  {
   "cell_type": "code",
   "execution_count": null,
   "id": "9a11c70e",
   "metadata": {},
   "outputs": [
    {
     "name": "stdout",
     "output_type": "stream",
     "text": [
      "Кількість можливих комбінацій: 12\n"
     ]
    }
   ],
   "source": [
    "# використовуємо правило добутку, так як кожен колір доступний у всіх розмірах\n",
    "\n",
    "colors = 4\n",
    "sizes = 3\n",
    "\n",
    "result = colors * sizes\n",
    "\n",
    "print(f\"Кількість можливих комбінацій: { result }\")"
   ]
  },
  {
   "cell_type": "markdown",
   "id": "5b52565f",
   "metadata": {},
   "source": [
    "#### Завдання 2. Команда складається з 5 гравців, серед яких є 2 нападники, 2 півзахисники та 1 воротар. Скільки існує різних варіантів складу команди?"
   ]
  },
  {
   "cell_type": "code",
   "execution_count": null,
   "id": "df964a33",
   "metadata": {},
   "outputs": [
    {
     "name": "stdout",
     "output_type": "stream",
     "text": [
      "Кількість варіантів складу команди: 30\n"
     ]
    }
   ],
   "source": [
    "import math\n",
    "# Уявімо, що склад команди виглядає наступним чином: \"ННППВ\"\n",
    "# тоді, щоб знайти кількість варіантів, використаємо формулу \n",
    "# перестановки з повтореннями\n",
    "\n",
    "total_players = 5  # загальна к-сть гравців\n",
    "roles = [2, 2, 1]  # n1 = 2, n2 = 2, n3 = 1\n",
    "\n",
    "chiselnik = math.factorial(total_players)\n",
    "\n",
    "znamennik = 1\n",
    "for role in roles:\n",
    "    znamennik *= math.factorial(role)\n",
    "\n",
    "result = chiselnik // znamennik\n",
    "print(f\"Кількість варіантів складу команди: {result}\")"
   ]
  },
  {
   "cell_type": "markdown",
   "id": "2f5ff33d",
   "metadata": {},
   "source": [
    "#### Завдання 3. Команда з 10 баскетболістів грає турнір, в якому має відбутися 5 матчів. Визначте, скільки можливих комбінацій матчів, які можуть відбутися на турнірі, якщо матчі нумеруються від 1 до 5."
   ]
  },
  {
   "cell_type": "code",
   "execution_count": null,
   "id": "553825fc",
   "metadata": {},
   "outputs": [
    {
     "name": "stdout",
     "output_type": "stream",
     "text": [
      "Кількість комбінацій матчів: 1\n",
      "(1, 2, 3, 4, 5)\n"
     ]
    }
   ],
   "source": [
    "import itertools\n",
    "\n",
    "matches = [1, 2, 3, 4, 5]  # номерація матчів\n",
    "matches_qty = 5  # к-сть матчів, що мають відбутися\n",
    "\n",
    "\n",
    "result = list(itertools.combinations(matches, matches_qty))\n",
    "\n",
    "print(f\"Кількість комбінацій матчів: {len(result)}\")\n",
    "for item in result:\n",
    "    print(item)"
   ]
  },
  {
   "cell_type": "markdown",
   "id": "9b25741e",
   "metadata": {},
   "source": [
    "#### Завдання 4. У магазині є 6 різних видів сніданків, 5 різних видів обідів та 4 різних видів вечері. Скільки різних способів обрати один сніданок, один обід та одну вечерю?"
   ]
  },
  {
   "cell_type": "code",
   "execution_count": 8,
   "id": "a7478418",
   "metadata": {},
   "outputs": [
    {
     "name": "stdout",
     "output_type": "stream",
     "text": [
      "Кількість різних способів вибору: 120\n"
     ]
    }
   ],
   "source": [
    "# Для розв'язання скористаємося правилом добутку\n",
    "\n",
    "breakfast_types = 6\n",
    "lunch_types = 5\n",
    "dinner_types = 4\n",
    "\n",
    "result = breakfast_types * lunch_types * dinner_types\n",
    "\n",
    "print(f\"Кількість різних способів вибору: {result}\")"
   ]
  },
  {
   "cell_type": "markdown",
   "id": "dc4d379b",
   "metadata": {},
   "source": [
    "#### Завдання 5. Скількома способами можна вибрати двох чергових із групи 17 чоловік?"
   ]
  },
  {
   "cell_type": "code",
   "execution_count": null,
   "id": "6c0bafaf",
   "metadata": {},
   "outputs": [
    {
     "name": "stdout",
     "output_type": "stream",
     "text": [
      "Кількість способів вибору двох чергових: 136\n"
     ]
    }
   ],
   "source": [
    "# Використовуємо комбінацію без повторень \n",
    "import math\n",
    "\n",
    "group = 17\n",
    "students_on_duty = 2\n",
    "\n",
    "result = math.comb(17, students_on_duty)\n",
    "\n",
    "print(f\"Кількість способів вибору двох чергових: {result}\")"
   ]
  },
  {
   "cell_type": "markdown",
   "id": "156ff223",
   "metadata": {},
   "source": [
    "#### Завдання 6. Звичайним завданням в ІТ компанії є розподіл n програмістів на кілька проектів. Скільки існує різних способів розподілу n програмістів на k проектів, якщо вважати, що кожен проект повинен мати хоча б одного програміста? (значення k – Ваш порядковий номер в журналі, а n – це порядковий номер + 6). "
   ]
  },
  {
   "cell_type": "code",
   "execution_count": null,
   "id": "373b5cf0",
   "metadata": {},
   "outputs": [
    {
     "name": "stdout",
     "output_type": "stream",
     "text": [
      "Кількість способів: 549443323130397696000\n"
     ]
    }
   ],
   "source": [
    "import math\n",
    "\n",
    "programers_qty = 20  # n = 20\n",
    "project_qty = 14  # k = 14\n",
    "\n",
    "total = 0\n",
    "for i in range(project_qty + 1):\n",
    "    sign = (-1) ** i  # Знак (-1)^i\n",
    "    combinations = math.comb(project_qty, i)  # Біноміальний коефіцієнт C(k, i)\n",
    "    power = (project_qty - i) ** programers_qty  # (k - i)^n\n",
    "    total += sign * combinations * power\n",
    "\n",
    "print(f\"Кількість способів розділити 20 програмістів на 14 проєктів: {total}\")"
   ]
  }
 ],
 "metadata": {
  "kernelspec": {
   "display_name": "DISCRETE_LABS",
   "language": "python",
   "name": "python3"
  },
  "language_info": {
   "codemirror_mode": {
    "name": "ipython",
    "version": 3
   },
   "file_extension": ".py",
   "mimetype": "text/x-python",
   "name": "python",
   "nbconvert_exporter": "python",
   "pygments_lexer": "ipython3",
   "version": "3.13.2"
  }
 },
 "nbformat": 4,
 "nbformat_minor": 5
}
